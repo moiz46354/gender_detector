{
  "cells": [
    {
      "cell_type": "code",
      "execution_count": null,
      "metadata": {
        "id": "wlYGuYXmEiYJ"
      },
      "outputs": [],
      "source": [
        "import tensorflow as tf\n",
        "from tensorflow.keras.preprocessing import image\n",
        "import numpy as np\n",
        "import cv2\n",
        "import os\n",
        "import time"
      ]
    },
    {
      "cell_type": "code",
      "execution_count": null,
      "metadata": {
        "id": "AzH5GNZTL4-s"
      },
      "outputs": [],
      "source": [
        "model = tf.keras.models.load_model('gender.h5')"
      ]
    },
    {
      "cell_type": "code",
      "execution_count": null,
      "metadata": {
        "id": "UEXhP0fyL_IW"
      },
      "outputs": [],
      "source": [
        "class_lookup = {0:'female', 1:'male'}\n",
        "\n",
        "def predict_image(img_path, class_lookup):\n",
        "    img = image.load_img(img_path, target_size=(260,260))\n",
        "    x = image.img_to_array(img)\n",
        "    # Reshapecheckpoint\n",
        "    x = x.reshape((1,) + x.shape)\n",
        "    # x /= 255.\n",
        "    result = model.predict([x])[0][0]\n",
        "    result_verbose = model.predict([x])\n",
        "    # print(result_verbose)\n",
        "    predicted_class = class_lookup[np.argmax(result_verbose, axis=1)[0]]\n",
        "    predicted_probability = result_verbose[0][np.argmax(result_verbose, axis=1)[0]]\n",
        "\n",
        "    return predicted_class\n",
        "\n",
        "# folder=r'male'\n",
        "# count=0\n",
        "# male_count=0\n",
        "# female_count=0\n",
        "# acc=0\n",
        "# for filename in os.listdir(folder):\n",
        "#     val=predict_image(os.path.join(folder,filename),class_lookup)\n",
        "#     if val=='male':\n",
        "#         male_count+=1\n",
        "#     print(val)\n",
        "#     img =cv2.imread(os.path.join(folder,filename))\n",
        "#     img=cv2.resize(img,(640,640))\n",
        "#     count+=1\n",
        "#     cv2.putText(img, val, (0,150), cv2.FONT_HERSHEY_SIMPLEX, 2, (0,255,0), 4)\n",
        "# # cv2.imwrite('result/male/img{}.jpg'.format(count),img)\n",
        "# acc=(male_count/count)*100\n",
        "# print(acc)"
      ]
    },
    {
      "cell_type": "code",
      "execution_count": null,
      "metadata": {
        "colab": {
          "base_uri": "https://localhost:8080/"
        },
        "id": "nZNECQvSMoUi",
        "outputId": "689ce405-2ed3-4597-d539-a96e4bc97fc7"
      },
      "outputs": [
        {
          "name": "stdout",
          "output_type": "stream",
          "text": [
            "1/1 [==============================] - 0s 151ms/step\n",
            "1/1 [==============================] - 0s 156ms/step\n",
            "female\n"
          ]
        }
      ],
      "source": [
        "val=predict_image('/content/male.jfif',class_lookup)\n",
        "print(val)"
      ]
    },
    {
      "cell_type": "code",
      "execution_count": null,
      "metadata": {
        "colab": {
          "base_uri": "https://localhost:8080/"
        },
        "id": "_j7fltfJPbvq",
        "outputId": "ba12032d-3ac2-48ed-add9-8cfe4dd23920"
      },
      "outputs": [
        {
          "name": "stdout",
          "output_type": "stream",
          "text": [
            "Collecting streamlit\n",
            "  Downloading streamlit-1.26.0-py2.py3-none-any.whl (8.1 MB)\n",
            "\u001b[?25l     \u001b[90m━━━━━━━━━━━━━━━━━━━━━━━━━━━━━━━━━━━━━━━━\u001b[0m \u001b[32m0.0/8.1 MB\u001b[0m \u001b[31m?\u001b[0m eta \u001b[36m-:--:--\u001b[0m\r\u001b[2K     \u001b[91m━━━\u001b[0m\u001b[91m╸\u001b[0m\u001b[90m━━━━━━━━━━━━━━━━━━━━━━━━━━━━━━━━━━━━\u001b[0m \u001b[32m0.7/8.1 MB\u001b[0m \u001b[31m21.7 MB/s\u001b[0m eta \u001b[36m0:00:01\u001b[0m\r\u001b[2K     \u001b[91m━━━━━━━━━━━━━━━━━━━━━━━\u001b[0m\u001b[91m╸\u001b[0m\u001b[90m━━━━━━━━━━━━━━━━\u001b[0m \u001b[32m4.8/8.1 MB\u001b[0m \u001b[31m68.9 MB/s\u001b[0m eta \u001b[36m0:00:01\u001b[0m\r\u001b[2K     \u001b[91m━━━━━━━━━━━━━━━━━━━━━━━━━━━━━━━━━━━━━━━\u001b[0m\u001b[91m╸\u001b[0m \u001b[32m8.1/8.1 MB\u001b[0m \u001b[31m91.2 MB/s\u001b[0m eta \u001b[36m0:00:01\u001b[0m\r\u001b[2K     \u001b[90m━━━━━━━━━━━━━━━━━━━━━━━━━━━━━━━━━━━━━━━━\u001b[0m \u001b[32m8.1/8.1 MB\u001b[0m \u001b[31m68.8 MB/s\u001b[0m eta \u001b[36m0:00:00\u001b[0m\n",
            "\u001b[?25hRequirement already satisfied: altair<6,>=4.0 in /usr/local/lib/python3.10/dist-packages (from streamlit) (4.2.2)\n",
            "Requirement already satisfied: blinker<2,>=1.0.0 in /usr/lib/python3/dist-packages (from streamlit) (1.4)\n",
            "Requirement already satisfied: cachetools<6,>=4.0 in /usr/local/lib/python3.10/dist-packages (from streamlit) (5.3.1)\n",
            "Requirement already satisfied: click<9,>=7.0 in /usr/local/lib/python3.10/dist-packages (from streamlit) (8.1.7)\n",
            "Requirement already satisfied: importlib-metadata<7,>=1.4 in /usr/local/lib/python3.10/dist-packages (from streamlit) (6.8.0)\n",
            "Requirement already satisfied: numpy<2,>=1.19.3 in /usr/local/lib/python3.10/dist-packages (from streamlit) (1.23.5)\n",
            "Requirement already satisfied: packaging<24,>=16.8 in /usr/local/lib/python3.10/dist-packages (from streamlit) (23.1)\n",
            "Requirement already satisfied: pandas<3,>=1.3.0 in /usr/local/lib/python3.10/dist-packages (from streamlit) (1.5.3)\n",
            "Requirement already satisfied: pillow<10,>=7.1.0 in /usr/local/lib/python3.10/dist-packages (from streamlit) (9.4.0)\n",
            "Requirement already satisfied: protobuf<5,>=3.20 in /usr/local/lib/python3.10/dist-packages (from streamlit) (3.20.3)\n",
            "Requirement already satisfied: pyarrow>=6.0 in /usr/local/lib/python3.10/dist-packages (from streamlit) (9.0.0)\n",
            "Collecting pympler<2,>=0.9 (from streamlit)\n",
            "  Downloading Pympler-1.0.1-py3-none-any.whl (164 kB)\n",
            "\u001b[2K     \u001b[90m━━━━━━━━━━━━━━━━━━━━━━━━━━━━━━━━━━━━━━\u001b[0m \u001b[32m164.8/164.8 kB\u001b[0m \u001b[31m20.0 MB/s\u001b[0m eta \u001b[36m0:00:00\u001b[0m\n",
            "\u001b[?25hRequirement already satisfied: python-dateutil<3,>=2.7.3 in /usr/local/lib/python3.10/dist-packages (from streamlit) (2.8.2)\n",
            "Requirement already satisfied: requests<3,>=2.18 in /usr/local/lib/python3.10/dist-packages (from streamlit) (2.31.0)\n",
            "Requirement already satisfied: rich<14,>=10.14.0 in /usr/local/lib/python3.10/dist-packages (from streamlit) (13.5.2)\n",
            "Requirement already satisfied: tenacity<9,>=8.1.0 in /usr/local/lib/python3.10/dist-packages (from streamlit) (8.2.3)\n",
            "Requirement already satisfied: toml<2,>=0.10.1 in /usr/local/lib/python3.10/dist-packages (from streamlit) (0.10.2)\n",
            "Requirement already satisfied: typing-extensions<5,>=4.1.0 in /usr/local/lib/python3.10/dist-packages (from streamlit) (4.5.0)\n",
            "Collecting tzlocal<5,>=1.1 (from streamlit)\n",
            "  Downloading tzlocal-4.3.1-py3-none-any.whl (20 kB)\n",
            "Collecting validators<1,>=0.2 (from streamlit)\n",
            "  Downloading validators-0.22.0-py3-none-any.whl (26 kB)\n",
            "Collecting gitpython!=3.1.19,<4,>=3.0.7 (from streamlit)\n",
            "  Downloading GitPython-3.1.35-py3-none-any.whl (188 kB)\n",
            "\u001b[2K     \u001b[90m━━━━━━━━━━━━━━━━━━━━━━━━━━━━━━━━━━━━━━\u001b[0m \u001b[32m188.8/188.8 kB\u001b[0m \u001b[31m22.0 MB/s\u001b[0m eta \u001b[36m0:00:00\u001b[0m\n",
            "\u001b[?25hCollecting pydeck<1,>=0.8 (from streamlit)\n",
            "  Downloading pydeck-0.8.0-py2.py3-none-any.whl (4.7 MB)\n",
            "\u001b[2K     \u001b[90m━━━━━━━━━━━━━━━━━━━━━━━━━━━━━━━━━━━━━━━━\u001b[0m \u001b[32m4.7/4.7 MB\u001b[0m \u001b[31m120.5 MB/s\u001b[0m eta \u001b[36m0:00:00\u001b[0m\n",
            "\u001b[?25hRequirement already satisfied: tornado<7,>=6.0.3 in /usr/local/lib/python3.10/dist-packages (from streamlit) (6.3.2)\n",
            "Collecting watchdog>=2.1.5 (from streamlit)\n",
            "  Downloading watchdog-3.0.0-py3-none-manylinux2014_x86_64.whl (82 kB)\n",
            "\u001b[2K     \u001b[90m━━━━━━━━━━━━━━━━━━━━━━━━━━━━━━━━━━━━━━━━\u001b[0m \u001b[32m82.1/82.1 kB\u001b[0m \u001b[31m9.2 MB/s\u001b[0m eta \u001b[36m0:00:00\u001b[0m\n",
            "\u001b[?25hRequirement already satisfied: entrypoints in /usr/local/lib/python3.10/dist-packages (from altair<6,>=4.0->streamlit) (0.4)\n",
            "Requirement already satisfied: jinja2 in /usr/local/lib/python3.10/dist-packages (from altair<6,>=4.0->streamlit) (3.1.2)\n",
            "Requirement already satisfied: jsonschema>=3.0 in /usr/local/lib/python3.10/dist-packages (from altair<6,>=4.0->streamlit) (4.19.0)\n",
            "Requirement already satisfied: toolz in /usr/local/lib/python3.10/dist-packages (from altair<6,>=4.0->streamlit) (0.12.0)\n",
            "Collecting gitdb<5,>=4.0.1 (from gitpython!=3.1.19,<4,>=3.0.7->streamlit)\n",
            "  Downloading gitdb-4.0.10-py3-none-any.whl (62 kB)\n",
            "\u001b[2K     \u001b[90m━━━━━━━━━━━━━━━━━━━━━━━━━━━━━━━━━━━━━━━━\u001b[0m \u001b[32m62.7/62.7 kB\u001b[0m \u001b[31m7.1 MB/s\u001b[0m eta \u001b[36m0:00:00\u001b[0m\n",
            "\u001b[?25hRequirement already satisfied: zipp>=0.5 in /usr/local/lib/python3.10/dist-packages (from importlib-metadata<7,>=1.4->streamlit) (3.16.2)\n",
            "Requirement already satisfied: pytz>=2020.1 in /usr/local/lib/python3.10/dist-packages (from pandas<3,>=1.3.0->streamlit) (2023.3.post1)\n",
            "Requirement already satisfied: six>=1.5 in /usr/local/lib/python3.10/dist-packages (from python-dateutil<3,>=2.7.3->streamlit) (1.16.0)\n",
            "Requirement already satisfied: charset-normalizer<4,>=2 in /usr/local/lib/python3.10/dist-packages (from requests<3,>=2.18->streamlit) (3.2.0)\n",
            "Requirement already satisfied: idna<4,>=2.5 in /usr/local/lib/python3.10/dist-packages (from requests<3,>=2.18->streamlit) (3.4)\n",
            "Requirement already satisfied: urllib3<3,>=1.21.1 in /usr/local/lib/python3.10/dist-packages (from requests<3,>=2.18->streamlit) (2.0.4)\n",
            "Requirement already satisfied: certifi>=2017.4.17 in /usr/local/lib/python3.10/dist-packages (from requests<3,>=2.18->streamlit) (2023.7.22)\n",
            "Requirement already satisfied: markdown-it-py>=2.2.0 in /usr/local/lib/python3.10/dist-packages (from rich<14,>=10.14.0->streamlit) (3.0.0)\n",
            "Requirement already satisfied: pygments<3.0.0,>=2.13.0 in /usr/local/lib/python3.10/dist-packages (from rich<14,>=10.14.0->streamlit) (2.16.1)\n",
            "Collecting pytz-deprecation-shim (from tzlocal<5,>=1.1->streamlit)\n",
            "  Downloading pytz_deprecation_shim-0.1.0.post0-py2.py3-none-any.whl (15 kB)\n",
            "Collecting smmap<6,>=3.0.1 (from gitdb<5,>=4.0.1->gitpython!=3.1.19,<4,>=3.0.7->streamlit)\n",
            "  Downloading smmap-5.0.0-py3-none-any.whl (24 kB)\n",
            "Requirement already satisfied: MarkupSafe>=2.0 in /usr/local/lib/python3.10/dist-packages (from jinja2->altair<6,>=4.0->streamlit) (2.1.3)\n",
            "Requirement already satisfied: attrs>=22.2.0 in /usr/local/lib/python3.10/dist-packages (from jsonschema>=3.0->altair<6,>=4.0->streamlit) (23.1.0)\n",
            "Requirement already satisfied: jsonschema-specifications>=2023.03.6 in /usr/local/lib/python3.10/dist-packages (from jsonschema>=3.0->altair<6,>=4.0->streamlit) (2023.7.1)\n",
            "Requirement already satisfied: referencing>=0.28.4 in /usr/local/lib/python3.10/dist-packages (from jsonschema>=3.0->altair<6,>=4.0->streamlit) (0.30.2)\n",
            "Requirement already satisfied: rpds-py>=0.7.1 in /usr/local/lib/python3.10/dist-packages (from jsonschema>=3.0->altair<6,>=4.0->streamlit) (0.10.2)\n",
            "Requirement already satisfied: mdurl~=0.1 in /usr/local/lib/python3.10/dist-packages (from markdown-it-py>=2.2.0->rich<14,>=10.14.0->streamlit) (0.1.2)\n",
            "Collecting tzdata (from pytz-deprecation-shim->tzlocal<5,>=1.1->streamlit)\n",
            "  Downloading tzdata-2023.3-py2.py3-none-any.whl (341 kB)\n",
            "\u001b[2K     \u001b[90m━━━━━━━━━━━━━━━━━━━━━━━━━━━━━━━━━━━━━━\u001b[0m \u001b[32m341.8/341.8 kB\u001b[0m \u001b[31m36.9 MB/s\u001b[0m eta \u001b[36m0:00:00\u001b[0m\n",
            "\u001b[?25hInstalling collected packages: watchdog, validators, tzdata, smmap, pympler, pytz-deprecation-shim, pydeck, gitdb, tzlocal, gitpython, streamlit\n",
            "  Attempting uninstall: tzlocal\n",
            "    Found existing installation: tzlocal 5.0.1\n",
            "    Uninstalling tzlocal-5.0.1:\n",
            "      Successfully uninstalled tzlocal-5.0.1\n",
            "Successfully installed gitdb-4.0.10 gitpython-3.1.35 pydeck-0.8.0 pympler-1.0.1 pytz-deprecation-shim-0.1.0.post0 smmap-5.0.0 streamlit-1.26.0 tzdata-2023.3 tzlocal-4.3.1 validators-0.22.0 watchdog-3.0.0\n"
          ]
        }
      ],
      "source": [
        "!pip install streamlit"
      ]
    },
    {
      "cell_type": "code",
      "execution_count": null,
      "metadata": {
        "colab": {
          "base_uri": "https://localhost:8080/"
        },
        "id": "xrd6TDm4Ni6C",
        "outputId": "0cea1e77-f49a-4b67-b8ba-bd6d17851aeb"
      },
      "outputs": [
        {
          "name": "stdout",
          "output_type": "stream",
          "text": [
            "Writing app.py\n"
          ]
        }
      ],
      "source": [
        "%%writefile app.py\n",
        "import streamlit as st\n",
        "import tensorflow as tf\n",
        "import streamlit as st\n",
        "\n",
        "\n",
        "@st.cache(allow_output_mutation=True)\n",
        "def load_model():\n",
        "  model=tf.keras.models.load_model('gender.h5')\n",
        "  return model\n",
        "with st.spinner('Model is being loaded..'):\n",
        "  model=load_model()\n",
        "\n",
        "st.write(\"\"\"\n",
        "         # Gender Detection USING DEEP LEARNING\n",
        "           by Moiz Ahmed Khan\n",
        "         \"\"\"\n",
        ")\n",
        "file = st.file_uploader(\"Please upload any image from the local machine in case of computer or upload camera image in case of mobile\", type=[\"jpg\", \"png\",\"jpeg\",\"webp\",\"tif\"])\n",
        "import cv2\n",
        "from PIL import Image, ImageOps\n",
        "import numpy as np\n",
        "st.set_option('deprecation.showfileUploaderEncoding', False)\n",
        "def import_and_predict(image_data, model):\n",
        "\n",
        "        size = (260,260)\n",
        "        image = ImageOps.fit(image_data, size, Image.ANTIALIAS)\n",
        "        image = np.asarray(image)\n",
        "        img = cv2.cvtColor(image, cv2.COLOR_BGR2RGB)\n",
        "        img_reshape = img[np.newaxis,...]\n",
        "\n",
        "        prediction = model.predict(img_reshape)\n",
        "        return prediction\n",
        "if file is None:\n",
        "    st.text(\"Please upload an image file within the allotted file size or retry of the error still persists...\")\n",
        "else:\n",
        "    image = Image.open(file)\n",
        "    st.image(image, use_column_width=True)\n",
        "    predictions = import_and_predict(image, model)\n",
        "    class_names= ['female',\n",
        "                  'male'\n",
        "                  ]\n",
        "    string= \"THE Image CATEGORY IS: \" + class_names[np.argmax(predictions)]\n",
        "    st.success(string)\n",
        "    #string1=\"Most of the wastes cannot be disposed at our homes. There are special collection sites for the disposal. Our work is to isolate the wastes into seperate containers which can be send to the collection sites for proper disposal.\"\n",
        "    string2=\"HOPE THIS HELPS!! THANK YOU FOR USING THIS PROJECT!!!\"\n",
        "    st.success(string2)\n"
      ]
    },
    {
      "cell_type": "code",
      "execution_count": null,
      "metadata": {
        "colab": {
          "background_save": true,
          "base_uri": "https://localhost:8080/"
        },
        "id": "1Q7dwAt0PxpJ",
        "outputId": "78f336a6-ec5f-42b7-8d9e-e71d2cf3ea63"
      },
      "outputs": [
        {
          "name": "stdout",
          "output_type": "stream",
          "text": [
            "\n",
            "Collecting usage statistics. To deactivate, set browser.gatherUsageStats to False.\n",
            "\u001b[0m\n",
            "\u001b[0m\n",
            "\u001b[34m\u001b[1m  You can now view your Streamlit app in your browser.\u001b[0m\n",
            "\u001b[0m\n",
            "\u001b[34m  Network URL: \u001b[0m\u001b[1mhttp://172.28.0.12:8501\u001b[0m\n",
            "\u001b[34m  External URL: \u001b[0m\u001b[1mhttp://35.199.42.66:8501\u001b[0m\n",
            "\u001b[0m\n",
            "\u001b[K\u001b[?25hnpx: installed 22 in 3.347s\n",
            "your url is: https://old-pumas-hug.loca.lt\n",
            "2023-09-10 14:26:14.558174: W tensorflow/compiler/tf2tensorrt/utils/py_utils.cc:38] TF-TRT Warning: Could not find TensorRT\n",
            "2023-09-10 14:26:21.155 `st.cache` is deprecated. Please use one of Streamlit's new caching commands,\n",
            "`st.cache_data` or `st.cache_resource`.\n",
            "\n",
            "More information [in our docs](https://docs.streamlit.io/library/advanced-features/caching).\n",
            "2023-09-10 14:26:28.086 `st.cache` is deprecated. Please use one of Streamlit's new caching commands,\n",
            "`st.cache_data` or `st.cache_resource`.\n",
            "\n",
            "More information [in our docs](https://docs.streamlit.io/library/advanced-features/caching).\n",
            "/content/app.py:26: DeprecationWarning: ANTIALIAS is deprecated and will be removed in Pillow 10 (2023-07-01). Use LANCZOS or Resampling.LANCZOS instead.\n",
            "  image = ImageOps.fit(image_data, size, Image.ANTIALIAS)\n",
            "1/1 [==============================] - 2s 2s/step\n",
            "2023-09-10 14:26:38.463 `st.cache` is deprecated. Please use one of Streamlit's new caching commands,\n",
            "`st.cache_data` or `st.cache_resource`.\n",
            "\n",
            "More information [in our docs](https://docs.streamlit.io/library/advanced-features/caching).\n",
            "2023-09-10 14:26:38.737 `st.cache` is deprecated. Please use one of Streamlit's new caching commands,\n",
            "`st.cache_data` or `st.cache_resource`.\n",
            "\n",
            "More information [in our docs](https://docs.streamlit.io/library/advanced-features/caching).\n",
            "/content/app.py:26: DeprecationWarning: ANTIALIAS is deprecated and will be removed in Pillow 10 (2023-07-01). Use LANCZOS or Resampling.LANCZOS instead.\n",
            "  image = ImageOps.fit(image_data, size, Image.ANTIALIAS)\n",
            "1/1 [==============================] - 1s 544ms/step\n",
            "2023-09-10 14:26:48.464 `st.cache` is deprecated. Please use one of Streamlit's new caching commands,\n",
            "`st.cache_data` or `st.cache_resource`.\n",
            "\n",
            "More information [in our docs](https://docs.streamlit.io/library/advanced-features/caching).\n",
            "2023-09-10 14:26:49.001 `st.cache` is deprecated. Please use one of Streamlit's new caching commands,\n",
            "`st.cache_data` or `st.cache_resource`.\n",
            "\n",
            "More information [in our docs](https://docs.streamlit.io/library/advanced-features/caching).\n",
            "/content/app.py:26: DeprecationWarning: ANTIALIAS is deprecated and will be removed in Pillow 10 (2023-07-01). Use LANCZOS or Resampling.LANCZOS instead.\n",
            "  image = ImageOps.fit(image_data, size, Image.ANTIALIAS)\n",
            "1/1 [==============================] - 1s 551ms/step\n",
            "2023-09-10 14:27:00.995 `st.cache` is deprecated. Please use one of Streamlit's new caching commands,\n",
            "`st.cache_data` or `st.cache_resource`.\n",
            "\n",
            "More information [in our docs](https://docs.streamlit.io/library/advanced-features/caching).\n",
            "2023-09-10 14:27:01.805 `st.cache` is deprecated. Please use one of Streamlit's new caching commands,\n",
            "`st.cache_data` or `st.cache_resource`.\n",
            "\n",
            "More information [in our docs](https://docs.streamlit.io/library/advanced-features/caching).\n",
            "/content/app.py:26: DeprecationWarning: ANTIALIAS is deprecated and will be removed in Pillow 10 (2023-07-01). Use LANCZOS or Resampling.LANCZOS instead.\n",
            "  image = ImageOps.fit(image_data, size, Image.ANTIALIAS)\n",
            "1/1 [==============================] - 1s 549ms/step\n",
            "2023-09-10 14:27:13.754 `st.cache` is deprecated. Please use one of Streamlit's new caching commands,\n",
            "`st.cache_data` or `st.cache_resource`.\n",
            "\n",
            "More information [in our docs](https://docs.streamlit.io/library/advanced-features/caching).\n",
            "2023-09-10 14:27:14.291 `st.cache` is deprecated. Please use one of Streamlit's new caching commands,\n",
            "`st.cache_data` or `st.cache_resource`.\n",
            "\n",
            "More information [in our docs](https://docs.streamlit.io/library/advanced-features/caching).\n",
            "/content/app.py:26: DeprecationWarning: ANTIALIAS is deprecated and will be removed in Pillow 10 (2023-07-01). Use LANCZOS or Resampling.LANCZOS instead.\n",
            "  image = ImageOps.fit(image_data, size, Image.ANTIALIAS)\n",
            "1/1 [==============================] - 1s 639ms/step\n",
            "2023-09-10 14:27:24.907 `st.cache` is deprecated. Please use one of Streamlit's new caching commands,\n",
            "`st.cache_data` or `st.cache_resource`.\n",
            "\n",
            "More information [in our docs](https://docs.streamlit.io/library/advanced-features/caching).\n",
            "2023-09-10 14:27:25.445 `st.cache` is deprecated. Please use one of Streamlit's new caching commands,\n",
            "`st.cache_data` or `st.cache_resource`.\n",
            "\n",
            "More information [in our docs](https://docs.streamlit.io/library/advanced-features/caching).\n",
            "/content/app.py:26: DeprecationWarning: ANTIALIAS is deprecated and will be removed in Pillow 10 (2023-07-01). Use LANCZOS or Resampling.LANCZOS instead.\n",
            "  image = ImageOps.fit(image_data, size, Image.ANTIALIAS)\n",
            "1/1 [==============================] - 1s 567ms/step\n",
            "2023-09-10 14:27:42.315 `st.cache` is deprecated. Please use one of Streamlit's new caching commands,\n",
            "`st.cache_data` or `st.cache_resource`.\n",
            "\n",
            "More information [in our docs](https://docs.streamlit.io/library/advanced-features/caching).\n",
            "2023-09-10 14:27:42.817 `st.cache` is deprecated. Please use one of Streamlit's new caching commands,\n",
            "`st.cache_data` or `st.cache_resource`.\n",
            "\n",
            "More information [in our docs](https://docs.streamlit.io/library/advanced-features/caching).\n",
            "/content/app.py:26: DeprecationWarning: ANTIALIAS is deprecated and will be removed in Pillow 10 (2023-07-01). Use LANCZOS or Resampling.LANCZOS instead.\n",
            "  image = ImageOps.fit(image_data, size, Image.ANTIALIAS)\n",
            "1/1 [==============================] - 1s 552ms/step\n",
            "2023-09-10 14:27:52.834 `st.cache` is deprecated. Please use one of Streamlit's new caching commands,\n",
            "`st.cache_data` or `st.cache_resource`.\n",
            "\n",
            "More information [in our docs](https://docs.streamlit.io/library/advanced-features/caching).\n",
            "2023-09-10 15:10:20.812 `st.cache` is deprecated. Please use one of Streamlit's new caching commands,\n",
            "`st.cache_data` or `st.cache_resource`.\n",
            "\n",
            "More information [in our docs](https://docs.streamlit.io/library/advanced-features/caching).\n",
            "/content/app.py:26: DeprecationWarning: ANTIALIAS is deprecated and will be removed in Pillow 10 (2023-07-01). Use LANCZOS or Resampling.LANCZOS instead.\n",
            "  image = ImageOps.fit(image_data, size, Image.ANTIALIAS)\n",
            "1/1 [==============================] - 1s 730ms/step\n",
            "2023-09-10 15:10:34.595 `st.cache` is deprecated. Please use one of Streamlit's new caching commands,\n",
            "`st.cache_data` or `st.cache_resource`.\n",
            "\n",
            "More information [in our docs](https://docs.streamlit.io/library/advanced-features/caching).\n",
            "2023-09-10 15:10:35.162 `st.cache` is deprecated. Please use one of Streamlit's new caching commands,\n",
            "`st.cache_data` or `st.cache_resource`.\n",
            "\n",
            "More information [in our docs](https://docs.streamlit.io/library/advanced-features/caching).\n",
            "/content/app.py:26: DeprecationWarning: ANTIALIAS is deprecated and will be removed in Pillow 10 (2023-07-01). Use LANCZOS or Resampling.LANCZOS instead.\n",
            "  image = ImageOps.fit(image_data, size, Image.ANTIALIAS)\n",
            "1/1 [==============================] - 1s 521ms/step\n",
            "2023-09-10 15:11:55.159 `st.cache` is deprecated. Please use one of Streamlit's new caching commands,\n",
            "`st.cache_data` or `st.cache_resource`.\n",
            "\n",
            "More information [in our docs](https://docs.streamlit.io/library/advanced-features/caching).\n",
            "2023-09-10 15:11:55.721 `st.cache` is deprecated. Please use one of Streamlit's new caching commands,\n",
            "`st.cache_data` or `st.cache_resource`.\n",
            "\n",
            "More information [in our docs](https://docs.streamlit.io/library/advanced-features/caching).\n",
            "/content/app.py:26: DeprecationWarning: ANTIALIAS is deprecated and will be removed in Pillow 10 (2023-07-01). Use LANCZOS or Resampling.LANCZOS instead.\n",
            "  image = ImageOps.fit(image_data, size, Image.ANTIALIAS)\n",
            "1/1 [==============================] - 1s 557ms/step\n",
            "2023-09-10 15:12:28.828 `st.cache` is deprecated. Please use one of Streamlit's new caching commands,\n",
            "`st.cache_data` or `st.cache_resource`.\n",
            "\n",
            "More information [in our docs](https://docs.streamlit.io/library/advanced-features/caching).\n",
            "/content/app.py:26: DeprecationWarning: ANTIALIAS is deprecated and will be removed in Pillow 10 (2023-07-01). Use LANCZOS or Resampling.LANCZOS instead.\n",
            "  image = ImageOps.fit(image_data, size, Image.ANTIALIAS)\n",
            "1/1 [==============================] - 1s 892ms/step\n"
          ]
        }
      ],
      "source": [
        "!streamlit run app.py & npx localtunnel --port 8501"
      ]
    },
    {
      "cell_type": "code",
      "execution_count": null,
      "metadata": {
        "id": "0MgGNIu0PyPJ"
      },
      "outputs": [],
      "source": []
    }
  ],
  "metadata": {
    "colab": {
      "provenance": []
    },
    "kernelspec": {
      "display_name": "Python 3",
      "name": "python3"
    },
    "language_info": {
      "name": "python"
    }
  },
  "nbformat": 4,
  "nbformat_minor": 0
}